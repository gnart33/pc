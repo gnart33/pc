{
 "cells": [
  {
   "cell_type": "code",
   "execution_count": 1,
   "metadata": {},
   "outputs": [],
   "source": [
    "import os\n",
    "import sys\n",
    "\n",
    "root_path = os.path.abspath(os.path.join(os.getcwd(), '..'))\n",
    "sys.path.append(root_path)"
   ]
  },
  {
   "cell_type": "code",
   "execution_count": 5,
   "metadata": {},
   "outputs": [],
   "source": [
    "from pprint import pprint\n"
   ]
  },
  {
   "cell_type": "markdown",
   "metadata": {},
   "source": [
    "# Initial Assesment"
   ]
  },
  {
   "cell_type": "code",
   "execution_count": 2,
   "metadata": {},
   "outputs": [
    {
     "data": {
      "text/plain": [
       "['Actual consumption',\n",
       " 'Actual generation',\n",
       " 'Automatic Frequency Restoration Reserve',\n",
       " 'Balancing energy',\n",
       " 'Costs of TSOs  without costs of DSOs ',\n",
       " 'Cross-border physical flows',\n",
       " 'Day-ahead prices',\n",
       " 'Exported balancing services',\n",
       " 'Forecasted consumption',\n",
       " 'Forecasted generation Day-Ahead',\n",
       " 'Frequency Containment Reserve',\n",
       " 'Generation Forecast Intraday',\n",
       " 'Imported balancing services',\n",
       " 'Installed generation capacity',\n",
       " 'Manual Frequency Restoration Reserve',\n",
       " 'Scheduled commercial exchanges']"
      ]
     },
     "execution_count": 2,
     "metadata": {},
     "output_type": "execute_result"
    }
   ],
   "source": [
    "from src.data_loader import DataLoader\n",
    "data_dir = f\"{root_path}/data/raw\"\n",
    "\n",
    "loader = DataLoader(data_dir)\n",
    "\n",
    "loader.list_available_datasets()"
   ]
  },
  {
   "cell_type": "markdown",
   "metadata": {},
   "source": [
    "## Consumption"
   ]
  },
  {
   "cell_type": "markdown",
   "metadata": {},
   "source": [
    "## Generation"
   ]
  },
  {
   "cell_type": "markdown",
   "metadata": {},
   "source": [
    "## Balancing & Reserve"
   ]
  },
  {
   "cell_type": "markdown",
   "metadata": {},
   "source": [
    "## Market & Exchange"
   ]
  },
  {
   "cell_type": "markdown",
   "metadata": {},
   "source": [
    "## Costs"
   ]
  },
  {
   "cell_type": "code",
   "execution_count": null,
   "metadata": {},
   "outputs": [],
   "source": []
  }
 ],
 "metadata": {
  "kernelspec": {
   "display_name": "Poetry (pc)",
   "language": "python",
   "name": "pc"
  },
  "language_info": {
   "codemirror_mode": {
    "name": "ipython",
    "version": 3
   },
   "file_extension": ".py",
   "mimetype": "text/x-python",
   "name": "python",
   "nbconvert_exporter": "python",
   "pygments_lexer": "ipython3",
   "version": "3.12.3"
  }
 },
 "nbformat": 4,
 "nbformat_minor": 2
}
